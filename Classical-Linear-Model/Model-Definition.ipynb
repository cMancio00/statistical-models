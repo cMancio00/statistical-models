{
 "cells": [
  {
   "cell_type": "markdown",
   "metadata": {},
   "source": [
    "# Model definition\n",
    "\n",
    "Suppose we are interested in a variable *y* and we aim to model the relationship between this **response variable** *y* and a set of **regressors** $x_{1},...,x_{k}$. We model this relationship with a function $f(x_{1},...,x_{k})$, but this is not exact because is affected by random noise $\\varepsilon$. In practice, we assume additive errors and we obtain $y = f(x_{1},...,x_{k}) + \\varepsilon$. Our goal is to find the unkwnon function $f$ and separate the **systematic component** or **signal** $f$ from the random **noise** $\\varepsilon$.\n",
    "\n",
    "We will do specific assumptions regarding the unknown function $f$ and the noise $\\varepsilon$:\n",
    "1. **The signal $f$ is a linear combination of covariates**<br>What does that mean? It means that $f(x_{1},...,x_{k}) = \\beta_{0} + \\beta_{1}x_{1}+...\\beta_{k}x_{k}$, the parameters $\\beta_{0},\\beta_{1},...,\\beta_{k}$ are unknown and need to be estimeted. The parameter $\\beta_{0}$ rapresents the intercept. Combining the covariates and the unknown parameters each into $p=(k+1)$ dimensional vectors, we obtain: $f(\\vec{x}) = \\vec{x}^\\intercal\\vec{\\beta}$. Where $\\vec{x} = (1,x_{1},...,x_{k})^\\intercal$ and $\\vec{\\beta} = \\beta_{0} + \\beta_{1}x_{1}+...\\beta_{k}x_{k}$.\n"
   ]
  }
 ],
 "metadata": {
  "kernelspec": {
   "display_name": "Python 3.10.4 64-bit",
   "language": "python",
   "name": "python3"
  },
  "language_info": {
   "name": "python",
   "version": "3.10.4"
  },
  "orig_nbformat": 4,
  "vscode": {
   "interpreter": {
    "hash": "916dbcbb3f70747c44a77c7bcd40155683ae19c65e1c03b4aa3499c5328201f1"
   }
  }
 },
 "nbformat": 4,
 "nbformat_minor": 2
}
